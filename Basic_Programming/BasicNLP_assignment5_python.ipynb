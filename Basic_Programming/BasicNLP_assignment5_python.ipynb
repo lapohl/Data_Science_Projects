{
 "cells": [
  {
   "cell_type": "markdown",
   "metadata": {},
   "source": [
    "<img src=\"https://datasciencedegree.wisconsin.edu/wp-content/themes/data-gulp/images/logo.svg\" width=\"300\">\n"
   ]
  },
  {
   "cell_type": "markdown",
   "metadata": {},
   "source": [
    "## Author: Lyndsey Pohl\n",
    "\n",
    "# Assignment 5\n",
    "\n",
    "This assignment builds on the previous Python content to write two fairly nontrivial programs: \n",
    "1. implementing the English language game of Piglatin\n",
    "2. counting all instances of each letter in a text file\n",
    "\n",
    "-----"
   ]
  },
  {
   "cell_type": "markdown",
   "metadata": {},
   "source": [
    "## Problem 1.  Pig latin.\n",
    "\n",
    "In [Pig Latin](https://en.wikipedia.org/wiki/Pig_Latin), English words are transformed according to the following rules:\n",
    "\n",
    "* If the word begins with one or more consonants, those consonants are moved to the end of the word, followed by \"ay\":\n",
    "\n",
    "  * pig -> igpay\n",
    "  * Latin -> Atinlay\n",
    "  * trash -> ashtray\n",
    "\n",
    "* If the word begins with \"qu\", both of these letters are moved to the end of the word, followed by \"ay\":\n",
    "\n",
    "  * quarter -> arterquay\n",
    "  \n",
    "* If the word begins with a vowel, it is followed by \"yay\":\n",
    "\n",
    "  * apple -> appleyay\n",
    "  * out -> outyay.\n",
    "  \n",
    "\n",
    "Note that \n",
    "* more than one consonant may be moved to the end of the word. \n",
    "* \"y\" functions as a consonant at the start of words. \n",
    "* capitalization should be preserved after manipulating the word. \n"
   ]
  },
  {
   "cell_type": "markdown",
   "metadata": {},
   "source": [
    "### Problem 1(a). Implementation.\n",
    "\n",
    "🎯 Write Python code that takes a word and converts it to Pig Latin.  If the input consists of multiple words or contains punctuation, your code should print a suitable error message. \n",
    "\n",
    "We want you to solve this problem from \"first principles,\" using what you learned about strings in lesson 5.  Do **not** use the **re** module or other regular expressions in this problem.\n",
    "\n",
    "###### Tips\n",
    "\n",
    "* If you write your piglatin code as a [function](https://www.tutorialspoint.com/python/python_functions.htm), then you'll be able to re-use it in part b!  Not required, just suggested, since it reduces code duplication and enhances readability."
   ]
  },
  {
   "cell_type": "code",
   "execution_count": 1,
   "metadata": {},
   "outputs": [
    {
     "name": "stdout",
     "output_type": "stream",
     "text": [
      "Atinlay\n"
     ]
    }
   ],
   "source": [
    "def PigLatin(word):\n",
    "    pigword = \"\"\n",
    "    vowels = 'aeiou'\n",
    "    end = 'ay'\n",
    "    punctuation = '!?.-$#*'\n",
    "    testword = word.lower()\n",
    "    begword = word[0]\n",
    "    error = ''\n",
    "    \n",
    "    for i in range(len(testword)):\n",
    "\n",
    "        if testword[i] == \" \":\n",
    "            pigword = \"Error: input must only be one word.\"\n",
    "            error = True\n",
    "            break;\n",
    "    \n",
    "        if testword[i] in punctuation :\n",
    "            pigword = \"Error: input must not contain punctuation marks.\"\n",
    "            error = True\n",
    "            break;\n",
    "    \n",
    "    for i in range(len(testword)):\n",
    "        \n",
    "        if error:\n",
    "            break;\n",
    "        \n",
    "        if i == 0:\n",
    "            if testword[i] in vowels:\n",
    "                pigword = testword + 'yay'\n",
    "                if begword.isupper():\n",
    "                    begpigword = pigword[0]\n",
    "                    pigword = begpigword.upper() + pigword[1:]\n",
    "                return pigword;\n",
    "\n",
    "            \n",
    "            if testword[i:i+2] == 'qu':\n",
    "                pigword = testword[2:]+'qu'+end\n",
    "                if begword.isupper():\n",
    "                    begpigword = pigword[0]\n",
    "                    pigword = begpigword.upper() + pigword[1:]\n",
    "                return pigword;\n",
    "                          \n",
    "            \n",
    "        if (testword[i] in vowels):\n",
    "            pigword = testword[i:]+ testword[:i] +end\n",
    "            if begword.isupper():\n",
    "                begpigword = pigword[0]\n",
    "                pigword = begpigword.upper() + pigword[1:]\n",
    "            return pigword\n",
    "\n",
    "    return pigword;\n",
    "\n",
    "test = 'Latin'\n",
    "print(PigLatin(test))"
   ]
  },
  {
   "cell_type": "markdown",
   "metadata": {},
   "source": [
    "# Problem 1(b). Test Suite.\n",
    "\n",
    "🎯 Test your code on the following words, and be sure your output matches what is shown on the right hand side of each arrow. Print the results of each test. If your output does not match, then fix your code in 1(a). \n",
    "\n",
    "    * orange -> orangeyay\n",
    "    * yellow -> ellowyay\n",
    "    * Strip -> Ipstray\n",
    "    * quarter -> arterquay\n",
    "    * schmooze -> oozeschmay\n",
    "    * a -> ayay\n",
    "    * Pig Latin -> (should produce an error message, `sys.exit` is forbidden)\n",
    "    * Ke$ha -> (should produce an error message)\n",
    "    \n",
    "If you wrote a function for 1(a), you can just call it on these test strings.  The function `assert` can be used to help do the checks.\n",
    "    "
   ]
  },
  {
   "cell_type": "code",
   "execution_count": 2,
   "metadata": {},
   "outputs": [
    {
     "name": "stdout",
     "output_type": "stream",
     "text": [
      "orangeyay\n",
      "ellowyay\n",
      "Ipstray\n",
      "arterquay\n",
      "oozeschmay\n",
      "ayay\n",
      "Error: input must only be one word.\n",
      "Error: input must not contain punctuation marks.\n"
     ]
    }
   ],
   "source": [
    "t1='orange'\n",
    "t2 = 'yellow'\n",
    "t3 = 'Strip'\n",
    "t4 = 'quarter'\n",
    "t5 = 'schmooze'\n",
    "t6 = 'a'\n",
    "t7 = 'Pig Latin'\n",
    "t8 = 'Ke$ha'\n",
    "\n",
    "print(PigLatin(t1))\n",
    "print(PigLatin(t2))\n",
    "print(PigLatin(t3))\n",
    "print(PigLatin(t4))\n",
    "print(PigLatin(t5))\n",
    "print(PigLatin(t6))\n",
    "print(PigLatin(t7))\n",
    "print(PigLatin(t8))"
   ]
  },
  {
   "cell_type": "markdown",
   "metadata": {},
   "source": [
    "---\n",
    "\n",
    "## Problem 2.  Letter Frequencies.\n",
    "\n",
    "\n",
    "The files ```encryptedA.txt``` and ```encryptedB.txt``` contain two different encrypted messages on similar topics.  One message was originally in English and one was in Welsh.  \n",
    "\n",
    "<img src=\"https://upload.wikimedia.org/wikipedia/commons/thumb/d/d5/English_letter_frequency_%28alphabetic%29.svg/600px-English_letter_frequency_%28alphabetic%29.svg.png\" width=\"300\">\n",
    "\n",
    "\n",
    "### Problem 2(a).  Letter Frequencies.\n",
    "\n",
    "🎯 Write Python code that reads a text file into memory and creates a `dict` object with a frequency count for each letter.  For example, for ```encryptedA.txt```, your output should contain the key:value pairs ```'a': 78``` and ```'b': 31 ```.  \n",
    "\n",
    "###### Notes\n",
    "* Do not distinguish between uppercase and lowercase letters.\n",
    "* Ignore punctuation.  Punctuation counts must not appear in your `dict`\n",
    "* If a given letter does not appear in the text, there must be a key:value pair with value 0. \n",
    "\n",
    "🎯 Use Python to determine which letter has the highest frequency in each text file, and print the result."
   ]
  },
  {
   "cell_type": "code",
   "execution_count": 3,
   "metadata": {},
   "outputs": [
    {
     "name": "stdout",
     "output_type": "stream",
     "text": [
      "{'v': 27, 'c': 88, 'b': 31, 'd': 28, 'w': 76, 'q': 41, 'a': 78, 'r': 114, 'x': 72, 'z': 16, 'u': 70, 'j': 36, 'm': 76, 'g': 78, 'k': 22, 'y': 40, 't': 19, 'l': 32, 'i': 7, 'f': 18, 'e': 0, 'h': 0, 'n': 0, 'o': 0, 'p': 0, 's': 0}\n",
      "{'k': 83, 'c': 40, 'n': 79, 'y': 90, 'd': 29, 'z': 61, 'x': 93, 'e': 28, 'q': 16, 'o': 48, 'u': 16, 'h': 48, 'p': 23, 's': 61, 'v': 122, 'g': 51, 't': 31, 'l': 11, 'w': 41, 'j': 19, 'i': 6, 'b': 3, 'a': 7, 'r': 2, 'f': 1, 'm': 0}\n"
     ]
    }
   ],
   "source": [
    "def LetterCount(file):\n",
    "    with open(file, 'r') as myfile:\n",
    "        data=myfile.read()\n",
    "\n",
    "    data = data.lower()\n",
    "\n",
    "#    print(data)\n",
    " \n",
    "    nonletters = \"!?.#$-', ;\\\"0123456789\"\n",
    "    letters = 'abcdefghijklmnopqrstuvwxyz'\n",
    "    \n",
    "    dict1 = {}\n",
    "    for i in range(len(data)):\n",
    "        if data[i] in dict1.keys():\n",
    "            dict1[data[i]]=1 + dict1[data[i]]\n",
    "        if data[i] not in dict1.keys():\n",
    "            dict1[data[i]]=1\n",
    "        if data[i] in nonletters:\n",
    "            dict1.pop(data[i])\n",
    "    \n",
    "    for j in range(len(letters)):\n",
    "        if letters[j] not in dict1.keys():\n",
    "            dict1[letters[j]] = 0\n",
    "            \n",
    "    return dict1;\n",
    "\n",
    "dictA = LetterCount('encryptedA.txt')\n",
    "dictB = LetterCount('encryptedB.txt')\n",
    "\n",
    "print(dictA)\n",
    "print(dictB)"
   ]
  },
  {
   "cell_type": "code",
   "execution_count": 4,
   "metadata": {},
   "outputs": [
    {
     "name": "stdout",
     "output_type": "stream",
     "text": [
      "[('r', 114)]\n",
      "[('v', 122)]\n"
     ]
    }
   ],
   "source": [
    "def MaxDictValue(dict1):\n",
    "    maxvalue = max(dict1.values())\n",
    "    maxvalues = []\n",
    "    maxkeys = []\n",
    "    \n",
    "    for key, value in dict1.items():\n",
    "        if value == maxvalue:\n",
    "            maxkeys.append(key)\n",
    "            maxvalues.append(value)\n",
    "    \n",
    "    maxkeyvalue = list(zip(maxkeys, maxvalues))\n",
    "    \n",
    "    return maxkeyvalue;\n",
    "\n",
    "maxA = MaxDictValue(dictA)\n",
    "maxB = MaxDictValue(dictB)\n",
    "\n",
    "print(maxA)\n",
    "print(maxB)"
   ]
  },
  {
   "cell_type": "markdown",
   "metadata": {},
   "source": [
    "### Problem 2(b).  Formatting for R.\n",
    "\n",
    "🎯 Write your two dictionaries with frequency counts from 2(a) to a pair of suitably named `.csv` files, with one column for the key and one column for the frequency counted.  Include both `.csv` files with your commit to GitHub."
   ]
  },
  {
   "cell_type": "code",
   "execution_count": 5,
   "metadata": {},
   "outputs": [],
   "source": [
    "def write2csv(dict1, filename):\n",
    "    \n",
    "    with open (filename, 'w') as file:\n",
    "        file.write(\"Letter\\tFrequency\\n\")\n",
    "        for key, value in dict1.items():\n",
    "            file.write(\"%s\\t%s\\n\"%(key, dict1[key]))\n",
    "            \n",
    "    return;\n",
    "\n",
    "\n",
    "\n",
    "write2csv(dictA, 'dictA.csv')\n",
    "write2csv(dictB, 'dictB.csv')\n",
    "    "
   ]
  },
  {
   "cell_type": "code",
   "execution_count": null,
   "metadata": {},
   "outputs": [],
   "source": []
  }
 ],
 "metadata": {
  "anaconda-cloud": {},
  "kernelspec": {
   "display_name": "Python 3",
   "language": "python",
   "name": "python3"
  },
  "language_info": {
   "codemirror_mode": {
    "name": "ipython",
    "version": 3
   },
   "file_extension": ".py",
   "mimetype": "text/x-python",
   "name": "python",
   "nbconvert_exporter": "python",
   "pygments_lexer": "ipython3",
   "version": "3.7.1"
  }
 },
 "nbformat": 4,
 "nbformat_minor": 1
}
