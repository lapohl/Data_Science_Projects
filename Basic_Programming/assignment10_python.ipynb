{
 "cells": [
  {
   "cell_type": "markdown",
   "metadata": {},
   "source": [
    "<img src=\"https://datasciencedegree.wisconsin.edu/wp-content/themes/data-gulp/images/logo.svg\" width=\"300\">\n",
    "\n"
   ]
  },
  {
   "cell_type": "markdown",
   "metadata": {},
   "source": [
    "## Author: Lyndsey Pohl\n",
    "\n",
    "# Assignment 10\n",
    "\n",
    "This Python assignment explores three methods of computing the same thing, and their performance.  \n",
    "\n",
    "These problems use the 1985 Current Population Survey data, ```cps.csv```, from last week.\n"
   ]
  },
  {
   "cell_type": "markdown",
   "metadata": {},
   "source": [
    "## Problem 1(a).  Unionized workers.\n",
    "\n",
    "\n",
    "🎯 Create a pandas data frame to hold the CPS data.  \n",
    "🎯 Write a function that computes the average hourly wage of a unionized worker by using **control flow** to iterate through each row of the data frame.  There must be a loop in this function."
   ]
  },
  {
   "cell_type": "code",
   "execution_count": 1,
   "metadata": {},
   "outputs": [
    {
     "name": "stdout",
     "output_type": "stream",
     "text": [
      "10.798125\n"
     ]
    }
   ],
   "source": [
    "import pandas as pd\n",
    "\n",
    "data = pd.read_csv('cps.csv')\n",
    "#print(data)\n",
    "\n",
    "def AverageWage(dataframe):\n",
    "    \n",
    "    row, col = dataframe.shape\n",
    "    i =0\n",
    "    summ = 0\n",
    "    tot =0\n",
    "    while i < row:\n",
    "        if dataframe.iloc[i,8]=='Union':\n",
    "            summ = dataframe.iloc[i, 0] + summ\n",
    "            tot = tot +1\n",
    "            #print(dataframe.iloc[i, 0])\n",
    "        i = i +1\n",
    "    \n",
    "    mean = summ/tot\n",
    "    \n",
    "    return mean;\n",
    "\n",
    "test = AverageWage(data)\n",
    "print(test)"
   ]
  },
  {
   "cell_type": "markdown",
   "metadata": {},
   "source": [
    "## Problem 1(b).  More unionized workers.\n",
    "\n",
    "🎯 Write a function that takes a row of a data frame as input.  \n",
    "\n",
    "* Your function should return \n",
    "  * `np.nan` if a worker is not unionized, and \n",
    "  * the worker's hourly wage if the worker is unionized.  \n",
    "  \n",
    "🎯 Pass your function to `apply` using your data frame (`df.apply(...)`).  Then, use the resulting series to compute the average hourly wage of a unionized worker.  \n",
    "\n",
    "Use tab completion or documentation for pandas series objects to find some useful functions!  Numpy rules, too."
   ]
  },
  {
   "cell_type": "code",
   "execution_count": 2,
   "metadata": {},
   "outputs": [
    {
     "name": "stdout",
     "output_type": "stream",
     "text": [
      "0        NaN\n",
      "1        NaN\n",
      "2        NaN\n",
      "3        NaN\n",
      "4      15.00\n",
      "5        NaN\n",
      "6       9.57\n",
      "7        NaN\n",
      "8        NaN\n",
      "9        NaN\n",
      "10       NaN\n",
      "11       NaN\n",
      "12     25.00\n",
      "13       NaN\n",
      "14       NaN\n",
      "15       NaN\n",
      "16     10.00\n",
      "17     15.00\n",
      "18       NaN\n",
      "19       NaN\n",
      "20       NaN\n",
      "21     13.00\n",
      "22      8.00\n",
      "23       NaN\n",
      "24       NaN\n",
      "25       NaN\n",
      "26       NaN\n",
      "27       NaN\n",
      "28       NaN\n",
      "29       NaN\n",
      "       ...  \n",
      "504     5.15\n",
      "505      NaN\n",
      "506      NaN\n",
      "507      NaN\n",
      "508      NaN\n",
      "509      NaN\n",
      "510      NaN\n",
      "511      NaN\n",
      "512      NaN\n",
      "513      NaN\n",
      "514      NaN\n",
      "515      NaN\n",
      "516      NaN\n",
      "517      NaN\n",
      "518    12.50\n",
      "519     8.85\n",
      "520      NaN\n",
      "521      NaN\n",
      "522     8.93\n",
      "523      NaN\n",
      "524    26.00\n",
      "525      NaN\n",
      "526    16.00\n",
      "527      NaN\n",
      "528    23.25\n",
      "529      NaN\n",
      "530      NaN\n",
      "531      NaN\n",
      "532    16.26\n",
      "533      NaN\n",
      "Length: 534, dtype: float64\n",
      "10.798125\n"
     ]
    }
   ],
   "source": [
    "import numpy as np\n",
    "\n",
    "def Unionized(datarow):\n",
    "    \n",
    "    #unionized column is column 8 , wage is column 0\n",
    "    \n",
    "    if datarow[8] == 'Not':\n",
    "        return np.nan;\n",
    "    \n",
    "    else:\n",
    "        return datarow[0];\n",
    "\n",
    "test = data.apply(Unionized, 1)\n",
    "print(test)\n",
    "\n",
    "mean = np.mean(test)\n",
    "print(mean)\n",
    "\n"
   ]
  },
  {
   "cell_type": "markdown",
   "metadata": {},
   "source": [
    "## Problem 1(c).  Selecting and analyzing unionized workers.\n",
    "\n",
    "🎯 Write code using the data frame only, that selects the unionized workers, then computes the average hourly wage of the resulting subset.  Pandas documentation and examples are going to be king here.  Also, don't be afraid to just Google [about three words](https://www.google.com/search?q=pandas+select+columns) related to your problem; after all, the internet was written by computer programmers!"
   ]
  },
  {
   "cell_type": "code",
   "execution_count": 3,
   "metadata": {},
   "outputs": [
    {
     "data": {
      "text/plain": [
       "10.798125"
      ]
     },
     "execution_count": 3,
     "metadata": {},
     "output_type": "execute_result"
    }
   ],
   "source": [
    "data[data.iloc[:,8]=='Union'].wage.mean()"
   ]
  },
  {
   "cell_type": "markdown",
   "metadata": {},
   "source": [
    "## Problem 1(d).  Timing.\n",
    "\n",
    "🎯 Use the ```%time``` or ```%timeit``` [iPython magic commands](https://ipython.readthedocs.io/en/stable/interactive/magics.html) to compare your code from 1(a), 1(b), and 1(c).  \n",
    "🎯 Create a markdown cell which explains the results of your comparison, including which is fastest and which is slowest.  Can you explain what makes the fastest code fastest?"
   ]
  },
  {
   "cell_type": "code",
   "execution_count": 4,
   "metadata": {},
   "outputs": [
    {
     "name": "stdout",
     "output_type": "stream",
     "text": [
      "6.39 ms ± 1.09 ms per loop (mean ± std. dev. of 7 runs, 100 loops each)\n",
      "11.9 ms ± 1.02 ms per loop (mean ± std. dev. of 7 runs, 100 loops each)\n",
      "1e+03 µs ± 222 µs per loop (mean ± std. dev. of 7 runs, 1000 loops each)\n"
     ]
    }
   ],
   "source": [
    "import timeit\n",
    "\n",
    "%timeit AverageWage(data)\n",
    "\n",
    "%timeit np.mean(data.apply(Unionized, 1))\n",
    "\n",
    "%timeit data[data.iloc[:,8]=='Union'].wage.mean()"
   ]
  },
  {
   "cell_type": "markdown",
   "metadata": {},
   "source": [
    "The fastest code was the one in part c, the slowest was in part b. The part c answer might be faster as all the code is in one line, whereas the other two reference functions that go through the dataframe row by row. "
   ]
  },
  {
   "cell_type": "code",
   "execution_count": null,
   "metadata": {},
   "outputs": [],
   "source": []
  }
 ],
 "metadata": {
  "kernelspec": {
   "display_name": "Python 3",
   "language": "python",
   "name": "python3"
  },
  "language_info": {
   "codemirror_mode": {
    "name": "ipython",
    "version": 3
   },
   "file_extension": ".py",
   "mimetype": "text/x-python",
   "name": "python",
   "nbconvert_exporter": "python",
   "pygments_lexer": "ipython3",
   "version": "3.7.1"
  }
 },
 "nbformat": 4,
 "nbformat_minor": 1
}
