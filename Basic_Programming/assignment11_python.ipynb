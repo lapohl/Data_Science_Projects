{
 "cells": [
  {
   "cell_type": "markdown",
   "metadata": {},
   "source": [
    "<img src=\"https://datasciencedegree.wisconsin.edu/wp-content/themes/data-gulp/images/logo.svg\" width=\"300\">\n"
   ]
  },
  {
   "cell_type": "markdown",
   "metadata": {},
   "source": [
    "## Author: Lyndsey Pohl\n",
    "\n",
    "# Assignment 11\n",
    "\n",
    "This assignment is probably the most involved yet.  You will process a large file through Python, and then pass it to R for statistical analysis.\n",
    "\n",
    "We will analyze Amazon reviews to determine what characteristics make them most helpful."
   ]
  },
  {
   "cell_type": "markdown",
   "metadata": {},
   "source": [
    "## Problem 1(a).  Reading Amazon Reviews.\n",
    "\n",
    "🎯 Download the file of Amazon gourmet food reviews from the [Stanford Large Network Dataset Collection](https://snap.stanford.edu/data/web-FineFoods.html).   (Your computer may already have a utility installed that can unzip the archive as a text file; if not, [7-zip](http://www.7-zip.org/) is a useful utility for Windows. You can also use an online utility by doing a web search for: ``open .gz files online``.)\n",
    "\n",
    "---\n",
    "\n",
    "### Do not skip the following step--if you skip it, you will create headaches for yourself when trying to submit your assignment.\n",
    "The data file is too large to upload to GitHub, so before we commit any changes to our code, we need to add the data file to the `.gitignore` file.  This way, git will ignore the data file and not try to upload it.\n",
    "\n",
    "🎯 Open the `.gitignore` file in your favorite text editor.  Add the following lines:  \n",
    "`finefoods.txt.gz`  \n",
    "`finefoods.csv`  \n",
    "`foods.txt`  \n",
    "and any other filenames of very large data files inside the folder where you downloaded your fork of the GitHub repository.  Save the `.gitignore` file.\n",
    "### Do not skip the step described above!\n",
    "---\n",
    "\n",
    "🎯 Create a pandas DataFrame object with the following entries for each review:\n",
    "\n",
    "1. Product ID\n",
    "2. Number of people who voted this review helpful\n",
    "3. Total number of people who rated this review\n",
    "4. Reviewer's score rating of the product\n",
    "5. Text of the review -- this will be dropped before you write your data file and port to R.\n",
    "\n",
    "For the second and third of these, the information will be given in the file as ```1/5```, which would correspond to 1 vote for helpful out of 5 people who rated the review."
   ]
  },
  {
   "cell_type": "markdown",
   "metadata": {},
   "source": [
    "---\n",
    "\n",
    "###### Examples\n",
    "\n",
    "Consider this review:\n",
    "\n",
    "    product/productId: B001E4KFG0\n",
    "    review/userId: A3SGXH7AUHU8GW\n",
    "    review/profileName: delmartian\n",
    "    review/helpfulness: 1/1\n",
    "    review/score: 5.0\n",
    "    review/time: 1303862400\n",
    "    review/summary: Good Quality Dog Food\n",
    "    review/text: I have bought several of the Vitality canned dog food products and have found them all to be of good quality. The product looks more like a stew than a processed meat and it smells better. My Labrador is finicky and she appreciates this product better than  most.\n",
    "\n",
    "The fraction for `review/helpfulness` for delmartian's review here is 1/1.  One person voted on whether it was a helpful review, and that one person found it helpful.\n",
    "\n",
    "---\n",
    "\n",
    "    product/productId: B001GVISJM\n",
    "    review/userId: A2MUGFV2TDQ47K\n",
    "    review/profileName: Lynrie \"Oh HELL no\"\n",
    "    review/helpfulness: 4/5\n",
    "    review/score: 5.0\n",
    "    review/time: 1268352000\n",
    "    review/summary: Strawberry Twizzlers - Yummy\n",
    "    review/text: The Strawberry Twizzlers are my guilty pleasure - yummy. Six pounds will be around for a while with my son and I.\n",
    "\n",
    "This review was rated for helpfulness by a total of 5 people, but only four of them found it helpful -- the other person didn't think it was a useful review.\n",
    "\n",
    "---\n",
    "\n",
    "    product/productId: B001GVISJM\n",
    "    review/userId: A3IV7CL2C13K2U\n",
    "    review/profileName: Greg\n",
    "    review/helpfulness: 0/0\n",
    "    review/score: 5.0\n",
    "    review/time: 1318032000\n",
    "    review/summary: Home delivered twizlers\n",
    "    review/text: Candy was delivered very fast and was purchased at a reasonable price.  I was home bound and unable to get to a store so this was perfect for me.\n",
    "    \n",
    "Zero people voted on whether Greg's review was helpful.  Of these zero people, zero found it helpful. \n",
    "\n",
    "---\n",
    "\n",
    "###### Notes\n",
    "\n",
    "I strongly suggest that you take some smaller portion of the file off the top for testing and development.  On a Mac, in the [terminal](https://www.macworld.co.uk/feature/mac-software/how-use-terminal-on-mac-3608274/), change directories to the location of this repo, and run\n",
    "\n",
    "    head -n 500 finefoods.csv > finefoods_test.csv\n",
    "    \n",
    "But, change that 500 to some number such that you don't have a broken review at the bottom!  Windows students, use the [Powershell](https://en.wikipedia.org/wiki/PowerShell). (regular old `cmd` is terrible)\n",
    "\n",
    "---\n",
    "\n",
    "Here are the first 10 reviews, correctly parsed:\n",
    "\n",
    "![first_10](first_10.jpg)"
   ]
  },
  {
   "cell_type": "code",
   "execution_count": 1,
   "metadata": {},
   "outputs": [
    {
     "name": "stdout",
     "output_type": "stream",
     "text": [
      "CPU times: user 4min 58s, sys: 2.32 s, total: 5min\n",
      "Wall time: 5min 2s\n"
     ]
    }
   ],
   "source": [
    "%%time\n",
    "import pandas as pd\n",
    "cols = ['Product ID', '# People Helpful', 'Total Reviews', 'Score','Review']\n",
    "data_df = pd.DataFrame(columns=cols)\n",
    "\n",
    "file = 'foods.txt'\n",
    "data_foodtext=[]\n",
    "with open(file, 'r', encoding = 'latin-1') as f:  \n",
    "    for line in f:\n",
    "        if line != '\\n':\n",
    "            data_foodtext.append(line)\n",
    "\n",
    "\n",
    "\n",
    "\n",
    "\n",
    "data_foodtext = [item for line in data_foodtext for item in line.split(':')]\n",
    "\n",
    "\n",
    "for index, item in enumerate(data_foodtext):\n",
    "    data_foodtext[index] = str(item).replace('\\n','')\n",
    "\n",
    "    \n",
    "\n",
    "\n",
    "#some reviews contain ':' so need to search for those split reviews and combine them together again\n",
    "#I don't think the following part of the code is as efficiecnt as it should be, but I cannot think of another way to split the data by not using ':'\n",
    "#This part of the code adds considerable time for completion (5 minutes vs. under 30 sec without it)\n",
    "categories = ['product/productId','review/userId', 'review/profileName','review/helpfulness', 'review/score', 'review/time','review/summary', 'review/text']\n",
    "i=0\n",
    "while i < (len(data_foodtext)-1):\n",
    "    if data_foodtext[i] not in categories  and data_foodtext[i+1] not in categories:\n",
    "            data_foodtext[i]= data_foodtext[i]+':'+data_foodtext[i+1]\n",
    "            del data_foodtext[i+1]\n",
    "\n",
    "    i = i +1\n",
    "\n",
    "\n",
    "\n",
    "#once all data is correctly split, take data after each keyword\n",
    "#print(data_foodtext)\n",
    "\n",
    "productid = []\n",
    "helpful = []\n",
    "totalrev = []\n",
    "score = []\n",
    "review = []\n",
    "\n",
    "for index, line in enumerate(data_foodtext):\n",
    "    if line == 'product/productId':\n",
    "        string = str(data_foodtext[index+1].replace(' ',''))\n",
    "        productid.append(string)\n",
    "    \n",
    "    if line == 'review/helpfulness':\n",
    "        revhelp = data_foodtext[index+1].split('/')\n",
    "        helpful.append(float(str(revhelp[0]).replace(' ','')))\n",
    "        totalrev.append(float(revhelp[1]))\n",
    "        \n",
    "    if line == 'review/score':\n",
    "        score.append(float(str(data_foodtext[index+1]).replace(' ','')))\n",
    "        \n",
    "    if line == 'review/text':\n",
    "        review.append(data_foodtext[index+1].lstrip())\n",
    "        \n",
    "       \n"
   ]
  },
  {
   "cell_type": "code",
   "execution_count": 2,
   "metadata": {},
   "outputs": [
    {
     "name": "stdout",
     "output_type": "stream",
     "text": [
      "I got a wild hair for taffy and ordered this five pound bag. The taffy was all very enjoyable with many flavors: watermelon, root beer, melon, peppermint, grape, etc. My only complaint is there was a bit too much red/black licorice-flavored pieces (just not my particular favorites). Between me, my kids, and my husband, this lasted only two weeks! I would recommend this brand of taffy -- it was a delightful treat.\n",
      "CPU times: user 378 ms, sys: 48.5 ms, total: 426 ms\n",
      "Wall time: 416 ms\n"
     ]
    }
   ],
   "source": [
    "%%time\n",
    "food_df = pd.DataFrame({'Product ID': productid, '# People Helpful':helpful, 'Total Reviews': totalrev, 'Score': score, 'Review': review })\n",
    "\n",
    "print(food_df['Review'][5])"
   ]
  },
  {
   "cell_type": "markdown",
   "metadata": {},
   "source": [
    "## Problem 1(b).  Analyzing review text.\n",
    "\n",
    "🎯 Add columns to your DataFrame for \n",
    "* the length of a review, \n",
    "* the number of exclamation points in a review, and \n",
    "* the fraction of people who rated a review helpful. \n",
    "\n",
    "###### Notes \n",
    "\n",
    "You should calculate the fraction who rated a review helpful using two of the columns you made in part 1a.  \n",
    "* You must convert from text fractions to floating point numbers.  For example, a ratio of 1 helpful rating out of 5 total ratings should be entered as 0.2, not the string ```1/5```.  This floating point number must not be rounded.\n",
    "* If no people voted on whether a problem was helpful, the corresponding entry in your percentage helpful column should be ```NaN```.  0/0 should generally turn into a `nan` when computing."
   ]
  },
  {
   "cell_type": "code",
   "execution_count": 3,
   "metadata": {},
   "outputs": [
    {
     "name": "stdout",
     "output_type": "stream",
     "text": [
      "    Product ID  # People Helpful  Total Reviews  Score  \\\n",
      "0   B001E4KFG0               1.0            1.0    5.0   \n",
      "1   B00813GRG4               0.0            0.0    1.0   \n",
      "2   B000LQOCH0               1.0            1.0    4.0   \n",
      "3   B000UA0QIQ               3.0            3.0    2.0   \n",
      "4   B006K2ZZ7K               0.0            0.0    5.0   \n",
      "5   B006K2ZZ7K               0.0            0.0    4.0   \n",
      "6   B006K2ZZ7K               0.0            0.0    5.0   \n",
      "7   B006K2ZZ7K               0.0            0.0    5.0   \n",
      "8   B000E7L2R4               1.0            1.0    5.0   \n",
      "9   B00171APVA               0.0            0.0    5.0   \n",
      "10  B0001PB9FE               1.0            1.0    5.0   \n",
      "11  B0009XLVG0               4.0            4.0    5.0   \n",
      "12  B0009XLVG0               1.0            1.0    1.0   \n",
      "13  B001GVISJM               2.0            2.0    4.0   \n",
      "14  B001GVISJM               4.0            5.0    5.0   \n",
      "15  B001GVISJM               4.0            5.0    5.0   \n",
      "16  B001GVISJM               0.0            0.0    2.0   \n",
      "17  B001GVISJM               0.0            0.0    5.0   \n",
      "18  B001GVISJM               0.0            0.0    5.0   \n",
      "19  B001GVISJM               0.0            0.0    5.0   \n",
      "\n",
      "                                               Review  Review Length  \\\n",
      "0   I have bought several of the Vitality canned d...            263   \n",
      "1   Product arrived labeled as Jumbo Salted Peanut...            190   \n",
      "2   This is a confection that has been around a fe...            509   \n",
      "3   If you are looking for the secret ingredient i...            219   \n",
      "4   Great taffy at a great price.  There was a wid...            140   \n",
      "5   I got a wild hair for taffy and ordered this f...            416   \n",
      "6   This saltwater taffy had great flavors and was...            304   \n",
      "7   This taffy is so good.  It is very soft and ch...            140   \n",
      "8   Right now I'm mostly just sprouting this so my...            131   \n",
      "9   This is a very healthy dog food. Good for thei...            137   \n",
      "10  I don't know if it's the cactus or the tequila...            779   \n",
      "11  One of my boys needed to lose some weight and ...            328   \n",
      "12  My cats have been happily eating Felidae Plati...            399   \n",
      "13  good flavor! these came securely packed... the...             97   \n",
      "14  The Strawberry Twizzlers are my guilty pleasur...            113   \n",
      "15  My daughter loves twizzlers and this shipment ...            155   \n",
      "16  I love eating them and they are good for watch...            195   \n",
      "17  I am very satisfied with my Twizzler purchase....            141   \n",
      "18  Twizzlers, Strawberry my childhood favorite ca...            746   \n",
      "19  Candy was delivered very fast and was purchase...            145   \n",
      "\n",
      "    # Exclamation  Helpful Fraction  \n",
      "0               0               1.0  \n",
      "1               0               NaN  \n",
      "2               0               1.0  \n",
      "3               0               1.0  \n",
      "4               0               NaN  \n",
      "5               1               NaN  \n",
      "6               2               NaN  \n",
      "7               2               NaN  \n",
      "8               0               1.0  \n",
      "9               0               NaN  \n",
      "10              3               1.0  \n",
      "11              0               1.0  \n",
      "12              0               1.0  \n",
      "13              3               1.0  \n",
      "14              0               0.8  \n",
      "15              0               0.8  \n",
      "16              1               NaN  \n",
      "17              0               NaN  \n",
      "18              1               NaN  \n",
      "19              0               NaN  \n",
      "CPU times: user 1.62 s, sys: 43.1 ms, total: 1.66 s\n",
      "Wall time: 1.56 s\n"
     ]
    }
   ],
   "source": [
    "%%time\n",
    "food_df['Review Length'] = food_df['Review'].apply(lambda x: len(x))\n",
    "food_df['# Exclamation'] = food_df['Review'].apply(lambda x: x.count('!'))\n",
    "food_df['Helpful Fraction'] = food_df['# People Helpful'] / food_df['Total Reviews']\n",
    "\n",
    "print(food_df.head(20))\n",
    "\n",
    "\n"
   ]
  },
  {
   "cell_type": "markdown",
   "metadata": {},
   "source": [
    "## Problem 1(c).  Summary statistics.\n",
    "\n",
    "🎯 Compute these using Python:\n",
    "\n",
    "1. How many reviews are in the data set?  \n",
    "2. What is the average length of a review (in characters)?  \n",
    "3. What is the average rating?  \n",
    "4. What is the greatest number of exclamation marks used in a single review?  \n",
    "\n",
    "Use the pandas package to answer these questions."
   ]
  },
  {
   "cell_type": "code",
   "execution_count": 4,
   "metadata": {},
   "outputs": [
    {
     "name": "stdout",
     "output_type": "stream",
     "text": [
      "Product ID          568454\n",
      "# People Helpful    568454\n",
      "Total Reviews       568454\n",
      "Score               568454\n",
      "Review              568454\n",
      "Review Length       568454\n",
      "# Exclamation       568454\n",
      "Helpful Fraction    298402\n",
      "dtype: int64\n",
      "419.2579135690839\n",
      "4.183198640523243\n",
      "84\n",
      "128758\n",
      "So there I was facing a robot horde low on energy and barely able to remain standing!!!! Then out of nowhere came the delivery man with my package from amazon!!!!!!!!!! That was it!?!?!?!!?! I opened the package and drank the delicious E-tank and I could feel my power go over 9,000! It was then the ZX was tagged on my name and I crushed the dark forces!!!!!!!!!!!!!!!!!!!!!!!!!!!! Thank you AMAZON AND CAPCOM!!!!!!!!!!!!!!!!!!!!!!!!!!!!! With this amazing product we all can be heroes!!!!!! Or have a tasty drink\n",
      "84\n",
      "CPU times: user 235 ms, sys: 45.7 ms, total: 280 ms\n",
      "Wall time: 203 ms\n"
     ]
    }
   ],
   "source": [
    "%%time\n",
    "total_reviews = food_df.count(0)\n",
    "print(total_reviews)\n",
    "\n",
    "ave_len_review = food_df['Review Length'].mean()\n",
    "print(ave_len_review)\n",
    "\n",
    "ave_rating = food_df['Score'].mean()\n",
    "print(ave_rating)\n",
    "\n",
    "max_exc = food_df['# Exclamation'].max()\n",
    "print(max_exc)\n",
    "\n",
    "index_max_exc = food_df['# Exclamation'].idxmax()\n",
    "print(index_max_exc)\n",
    "\n",
    "print(food_df['Review'][128758])\n",
    "print(food_df['Review'][128758].count('!'))"
   ]
  },
  {
   "cell_type": "markdown",
   "metadata": {},
   "source": [
    "1. Number of reviews: 568,454\n",
    "2. Average length of review: 419 characters\n",
    "3. Average rating: 4.18\n",
    "4. Max exclamation points in single review: 84"
   ]
  },
  {
   "cell_type": "markdown",
   "metadata": {},
   "source": [
    "## Problem 1(d).  Export.\n",
    "\n",
    "🎯 Save your DataFrame as a `.csv` file suitable for future analysis in R.  \n",
    "\n",
    "###### Requirements\n",
    "\n",
    "* Your .csv file must not include the review text column, as the presence of commas and quotation marks will make reading the file difficult.  \n",
    "* You should also convert entries from ```NaN``` to the empty string before saving."
   ]
  },
  {
   "cell_type": "code",
   "execution_count": 5,
   "metadata": {},
   "outputs": [
    {
     "name": "stdout",
     "output_type": "stream",
     "text": [
      "CPU times: user 3.42 s, sys: 127 ms, total: 3.55 s\n",
      "Wall time: 3.51 s\n"
     ]
    }
   ],
   "source": [
    "%%time\n",
    "import numpy as np\n",
    "food_df['Helpful Fraction'] = food_df['Helpful Fraction'].replace(np.nan, '')\n",
    "#food_df.head(20)\n",
    "\n",
    "pd.concat([food_df['Product ID'], food_df['# People Helpful'], food_df['Total Reviews'], food_df['Score'], food_df['Review Length'],food_df['# Exclamation'],food_df['Helpful Fraction']], axis =1).to_csv('food_output.csv', index =False)"
   ]
  },
  {
   "cell_type": "code",
   "execution_count": null,
   "metadata": {},
   "outputs": [],
   "source": []
  }
 ],
 "metadata": {
  "kernelspec": {
   "display_name": "Python 3",
   "language": "python",
   "name": "python3"
  },
  "language_info": {
   "codemirror_mode": {
    "name": "ipython",
    "version": 3
   },
   "file_extension": ".py",
   "mimetype": "text/x-python",
   "name": "python",
   "nbconvert_exporter": "python",
   "pygments_lexer": "ipython3",
   "version": "3.7.1"
  }
 },
 "nbformat": 4,
 "nbformat_minor": 1
}
