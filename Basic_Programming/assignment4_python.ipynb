{
 "cells": [
  {
   "cell_type": "markdown",
   "metadata": {},
   "source": [
    "<img src=\"https://datasciencedegree.wisconsin.edu/wp-content/themes/data-gulp/images/logo.svg\" width=\"300\">\n"
   ]
  },
  {
   "cell_type": "markdown",
   "metadata": {},
   "source": [
    "## Author: Lyndsey Pohl\n",
    "\n",
    "# Assignment 4\n",
    "\n",
    "This assignment has you play with such things as random data generation, and computation on data stored in a Python list.  \n",
    "<img src=\"https://upload.wikimedia.org/wikipedia/commons/3/36/Two_red_dice_01.svg\" width=\"150\">\n",
    "\n",
    "We're gonna use functions to do as much of it as we can, because functions are totally awesome.\n",
    "\n",
    "Might I recommend the use of [Numpy](http://www.numpy.org/) for random numbers and other useful things?"
   ]
  },
  {
   "cell_type": "markdown",
   "metadata": {},
   "source": [
    "## Problem 1.  Revenue models.\n",
    "\n",
    "You're an analyst for *Farm2Table*, a chain restaurant that sources its food locally whenever possible.  You are tasked to forecast the financial payoff of an ad campaign.  \n",
    "\n",
    "Currently, average monthly revenue at each store is \\$100,000, with a standard deviation of \\$12,000.  An advertising firm claims that with clever advertisement, they can increase monthly revenue for *Farm2Table* to \\$120,000, but the standard deviation will be increased as well, to \\$25,000.  Assume a **normal distribution**.\n",
    "\n",
    "---\n",
    "\n",
    "🎯 Write a Python function `simulate_revenue(average, std_dev, months)`.\n",
    "- it produces simulated revenue data according to a normal distribution with shape parameterized by `average` and `std_dev`, for a given number of months.   \n",
    "- It returns a list of length `months`. \n",
    "- Round each item to the nearest cent.  No fractions of a cent allowed. \n"
   ]
  },
  {
   "cell_type": "code",
   "execution_count": 1,
   "metadata": {},
   "outputs": [],
   "source": [
    "import numpy as np\n",
    "\n",
    "def simulate_revenue(average, std_dev, months):\n",
    "    monthrev = []\n",
    "    monthrev = np.random.normal(average, std_dev, months)\n",
    "    monthrev = ['%0.2f' % month for month in monthrev]\n",
    "    \n",
    "    return monthrev;"
   ]
  },
  {
   "cell_type": "markdown",
   "metadata": {},
   "source": [
    "Call `simulate_revenue` to generate two lists of random numbers which model potential revenue: \n",
    "\n",
    "1. one list `before` with 24 months of revenue using the current mean and standard deviation, \n",
    "2. another list `after` with 12 months of revenue using the predicted mean and standard deviation.\n",
    "\n",
    "Then, concatenate `before` and `after` to produce a third list `all_months` containing the revenue of all 36 months.  \n",
    "\n",
    "As a result of your code, your Python notebook should display the contents of all 3 lists."
   ]
  },
  {
   "cell_type": "code",
   "execution_count": 2,
   "metadata": {},
   "outputs": [
    {
     "name": "stdout",
     "output_type": "stream",
     "text": [
      "['107138.44', '117538.73', '114575.47', '104875.84', '93012.19', '97461.23', '97180.59', '140177.69', '76375.58', '90716.21', '92522.33', '90098.62', '101666.30', '95776.05', '123533.41', '102375.96', '94173.52', '117258.84', '107010.16', '118916.05', '101221.51', '73615.07', '116886.31', '107328.97']\n",
      "['143330.62', '87020.88', '96554.67', '118195.00', '115247.68', '153641.17', '153275.99', '95464.51', '95979.59', '114295.68', '75621.93', '134053.40']\n",
      "['107138.44', '117538.73', '114575.47', '104875.84', '93012.19', '97461.23', '97180.59', '140177.69', '76375.58', '90716.21', '92522.33', '90098.62', '101666.30', '95776.05', '123533.41', '102375.96', '94173.52', '117258.84', '107010.16', '118916.05', '101221.51', '73615.07', '116886.31', '107328.97', '143330.62', '87020.88', '96554.67', '118195.00', '115247.68', '153641.17', '153275.99', '95464.51', '95979.59', '114295.68', '75621.93', '134053.40']\n"
     ]
    }
   ],
   "source": [
    "before = simulate_revenue(100000,12000,24)\n",
    "print(before)\n",
    "after = simulate_revenue(120000,25000,12)\n",
    "print(after)\n",
    "all_months = before +after\n",
    "print(all_months)\n"
   ]
  },
  {
   "cell_type": "markdown",
   "metadata": {},
   "source": [
    "🎯 Write a function `print_monthly_revenue(revenue, name)` that prints an arbitrary list to the screen, with these formatting requirements:\n",
    "- round each number *when printing* to the nearest $100.  \n",
    "- do not modify the original list.\n",
    "- prints a two-column output, with `month: revenue` (the month is implicitly given). Pad the month value so it is always of width 2.\n",
    "- right-align the revenue value\n",
    "\n",
    "Example: \n",
    "`print_monthly_revenue(before, \"before\")` produces\n",
    "```\n",
    "Revenue for period 'before'\n",
    "\n",
    "Mo: revenue\n",
    "-----------\n",
    "01: 123100\n",
    "02:  98300\n",
    "...\n",
    "```\n",
    "\n"
   ]
  },
  {
   "cell_type": "code",
   "execution_count": 3,
   "metadata": {},
   "outputs": [
    {
     "name": "stdout",
     "output_type": "stream",
     "text": [
      "Revenue for period 'before'\n",
      "\n",
      "Mo: revenue\n",
      "-----------\n",
      "01:  107100\n",
      "02:  117500\n",
      "03:  114600\n",
      "04:  104900\n",
      "05:   93000\n",
      "06:   97500\n",
      "07:   97200\n",
      "08:  140200\n",
      "09:   76400\n",
      "10:   90700\n",
      "11:   92500\n",
      "12:   90100\n",
      "13:  101700\n",
      "14:   95800\n",
      "15:  123500\n",
      "16:  102400\n",
      "17:   94200\n",
      "18:  117300\n",
      "19:  107000\n",
      "20:  118900\n",
      "21:  101200\n",
      "22:   73600\n",
      "23:  116900\n",
      "24:  107300\n"
     ]
    }
   ],
   "source": [
    "def print_monthly_revenue(revenue, name):\n",
    "    print(\"Revenue for period '{}'\\n\".format(name))\n",
    "    print(\"Mo: revenue\")\n",
    "    print(\"-----------\")\n",
    "\n",
    "    for jj in range(len(revenue)):\n",
    "        revenue[jj] = round(float(revenue[jj]),-2)\n",
    "        print(\"{:02d}:{:8.0f}\".format(jj+1,revenue[jj]))\n",
    "        \n",
    "    return;\n",
    "\n",
    "print_monthly_revenue(before,'before')"
   ]
  },
  {
   "cell_type": "markdown",
   "metadata": {},
   "source": [
    "\n",
    "Call `print_monthly_revenue` on each of your 3 lists.  Be sure that the results of all 3 lists are visible in the Python notebook you commit to GitHub."
   ]
  },
  {
   "cell_type": "code",
   "execution_count": 4,
   "metadata": {},
   "outputs": [
    {
     "name": "stdout",
     "output_type": "stream",
     "text": [
      "Revenue for period 'before'\n",
      "\n",
      "Mo: revenue\n",
      "-----------\n",
      "01:  107100\n",
      "02:  117500\n",
      "03:  114600\n",
      "04:  104900\n",
      "05:   93000\n",
      "06:   97500\n",
      "07:   97200\n",
      "08:  140200\n",
      "09:   76400\n",
      "10:   90700\n",
      "11:   92500\n",
      "12:   90100\n",
      "13:  101700\n",
      "14:   95800\n",
      "15:  123500\n",
      "16:  102400\n",
      "17:   94200\n",
      "18:  117300\n",
      "19:  107000\n",
      "20:  118900\n",
      "21:  101200\n",
      "22:   73600\n",
      "23:  116900\n",
      "24:  107300\n",
      "\n",
      "\n",
      "Revenue for period 'after'\n",
      "\n",
      "Mo: revenue\n",
      "-----------\n",
      "01:  143300\n",
      "02:   87000\n",
      "03:   96600\n",
      "04:  118200\n",
      "05:  115200\n",
      "06:  153600\n",
      "07:  153300\n",
      "08:   95500\n",
      "09:   96000\n",
      "10:  114300\n",
      "11:   75600\n",
      "12:  134100\n",
      "\n",
      "\n",
      "Revenue for period 'all months'\n",
      "\n",
      "Mo: revenue\n",
      "-----------\n",
      "01:  107100\n",
      "02:  117500\n",
      "03:  114600\n",
      "04:  104900\n",
      "05:   93000\n",
      "06:   97500\n",
      "07:   97200\n",
      "08:  140200\n",
      "09:   76400\n",
      "10:   90700\n",
      "11:   92500\n",
      "12:   90100\n",
      "13:  101700\n",
      "14:   95800\n",
      "15:  123500\n",
      "16:  102400\n",
      "17:   94200\n",
      "18:  117300\n",
      "19:  107000\n",
      "20:  118900\n",
      "21:  101200\n",
      "22:   73600\n",
      "23:  116900\n",
      "24:  107300\n",
      "25:  143300\n",
      "26:   87000\n",
      "27:   96600\n",
      "28:  118200\n",
      "29:  115200\n",
      "30:  153600\n",
      "31:  153300\n",
      "32:   95500\n",
      "33:   96000\n",
      "34:  114300\n",
      "35:   75600\n",
      "36:  134100\n"
     ]
    }
   ],
   "source": [
    "print_monthly_revenue(before,'before')\n",
    "print(\"\\n\")\n",
    "print_monthly_revenue(after,'after')\n",
    "print(\"\\n\")\n",
    "print_monthly_revenue(all_months,'all months')"
   ]
  },
  {
   "cell_type": "markdown",
   "metadata": {},
   "source": [
    "---\n",
    "\n",
    "## Problem 2(a).  Bus arrival times.\n",
    "\n",
    "Shuttle buses arrive at an airport to fetch passengers with an average interval of 15 minutes.  Their actual interarrival times follow an **exponential distribution**.  \n",
    "\n",
    "---\n",
    "\n",
    "🎯 Write a function `simulate_busses(mean, num_busses)` that simulates bus arrival times\n",
    "\n",
    "- Use a ```random``` module to generate the exponentially distributed bus intervals.\n",
    "- Round your raw data to the nearest tenth of a minute.  Realize that rounding is generally scary, and can cause serious problems downstream if not done only when appropriate.\n",
    "\n"
   ]
  },
  {
   "cell_type": "code",
   "execution_count": 5,
   "metadata": {},
   "outputs": [],
   "source": [
    "import numpy as np\n",
    "\n",
    "def simulate_busses(mean, num_busses):\n",
    "   \n",
    "    arrival_times = np.random.exponential(mean,num_busses)\n",
    "    arrival_times = [float(i) for i in arrival_times]\n",
    "    arrival_times = ['%0.1f' % time for time in arrival_times]\n",
    "    \n",
    "    return arrival_times;\n",
    "\n",
    "\n"
   ]
  },
  {
   "cell_type": "markdown",
   "metadata": {},
   "source": [
    "Call your function to generate a list of 50 arrival times with mean 15; capture the result in a variable called `bus_times`.  Print your list, and be sure to commit the output.\n",
    "\n",
    "For example, your list might begin ```[11.2, 34.1, 18.8, 23.5, ...```.  \n",
    "\n"
   ]
  },
  {
   "cell_type": "code",
   "execution_count": 6,
   "metadata": {},
   "outputs": [
    {
     "name": "stdout",
     "output_type": "stream",
     "text": [
      "['9.1', '17.2', '9.2', '11.8', '19.0', '6.9', '12.5', '22.1', '3.1', '13.5', '1.2', '33.9', '2.6', '16.1', '12.3', '6.2', '28.9', '5.1', '36.6', '12.7', '13.0', '7.1', '12.5', '0.3', '63.6', '43.1', '11.8', '12.2', '34.9', '1.6', '27.8', '1.2', '15.6', '23.5', '22.4', '6.5', '1.4', '24.1', '5.3', '0.0', '3.1', '9.8', '8.9', '0.7', '15.7', '9.3', '9.4', '7.7', '19.7', '26.5']\n"
     ]
    }
   ],
   "source": [
    "bus_times = simulate_busses(15,50)\n",
    "print(bus_times)\n"
   ]
  },
  {
   "cell_type": "code",
   "execution_count": 7,
   "metadata": {},
   "outputs": [
    {
     "name": "stdout",
     "output_type": "stream",
     "text": [
      "Mean waiting time: 14.4\n",
      "Min waiting time: 0.0\n",
      "Max waiting time: 63.6\n"
     ]
    }
   ],
   "source": [
    "bus_times = [float(i) for i in bus_times]\n",
    "print(\"Mean waiting time: {:.1f}\".format(np.mean(bus_times)))\n",
    "print(\"Min waiting time: {}\".format(np.min(bus_times)))\n",
    "print(\"Max waiting time: {}\".format(np.max(bus_times)))"
   ]
  },
  {
   "cell_type": "code",
   "execution_count": 8,
   "metadata": {},
   "outputs": [
    {
     "name": "stdout",
     "output_type": "stream",
     "text": [
      "Mean waiting time: 14.4 minutes\n",
      "Max waiting time: 63.6 minutes\n",
      "Min waiting time: 0.0 minutes\n"
     ]
    }
   ],
   "source": [
    "def mean(array):\n",
    "    \n",
    "    sum = 0\n",
    "    count = 0\n",
    "    for i in range(len(array)):\n",
    "        sum = sum + array[i]\n",
    "        count += 1\n",
    "    \n",
    "    mean = sum /count\n",
    "        \n",
    "    \n",
    "    return mean;\n",
    "\n",
    "def max(array):\n",
    "    \n",
    "    max = 0\n",
    "    for i in range(len(array)):\n",
    "        if array[i] > max:\n",
    "            max = array[i]\n",
    "    \n",
    "    \n",
    "    return max;\n",
    "\n",
    "def min(array):\n",
    "    \n",
    "    min = array[0]\n",
    "    for i in range(len(array)):\n",
    "        if array[i] < min:\n",
    "            min = array[i]\n",
    "    \n",
    "    \n",
    "    return min;\n",
    "\n",
    "\n",
    "print(\"Mean waiting time: {:.1f} minutes\".format(mean(bus_times)))\n",
    "print(\"Max waiting time: {:.1f} minutes\".format(max(bus_times)))\n",
    "print(\"Min waiting time: {:.1f} minutes\".format(min(bus_times)))\n"
   ]
  },
  {
   "cell_type": "markdown",
   "metadata": {},
   "source": [
    "🎯 Use Python to answer the following questions:  \n",
    "1. What is the mean waiting time in your list?\n",
    "    * If it's not fairly close to 15, double-check your code for `simulate_busses`.  (It's OK if it's not *exactly* 15, because these are random numbers.)\n",
    "2. What is the shortest waiting time?  \n",
    "3. What is the longest waiting time?  \n",
    "\n",
    "These answers must be programmatically determined and the output that proves you computed them (namely, the values) must be committed.\n",
    "\n",
    "* When answering these questions, don't rearrange the order of the values in `bus_times`.  You'll need these values in their original order to solve problem 2(b)."
   ]
  },
  {
   "cell_type": "markdown",
   "metadata": {},
   "source": [
    "🎯 Create a Markdown cell and answer the following question:  When answering the previous question, did you write a function?  Why or why not?"
   ]
  },
  {
   "cell_type": "markdown",
   "metadata": {},
   "source": [
    "I used functions to determine the mean, max, and min and compared my values with the numpy package values. I made functions as they were simple to call for the bus_times list and also make it easier to call for other lists.\n"
   ]
  },
  {
   "cell_type": "markdown",
   "metadata": {},
   "source": [
    "# Problem 2(b).  Cumulative waiting times.\n",
    "\n",
    "In this problem, you'll interpret the data you generated in Problem 2(a) as a sequence of consecutive arrival times.  Suppose the first bus arrives at the measured number of minutes after midnight.  The bus company wants to track the time each bus arrived, measured in minutes after midnight.  \n",
    "\n",
    "🎯 Write a function that transforms the bus arrival times into cumulative times.  The function takes in a list of arrival times, and returns a list of the number of minutes after midnight that each bus arrived at, using the list you generated in part (a).\n",
    "\n",
    "- This assumes the first bus arrived at the airport terminal at midnight *plus* its arrival time (the time at bus_times[0]).  The second arrived at the arrival time of the first *plus* its arrival time, etc.\n",
    "- I'm deliberately not naming your function for you, here.  You get to choose!  Make it descriptive!\n",
    "\n",
    "With the data from our example in part (a), the answer would start ```[11.2, 45.3, 64.1, 87.6, ...]```, where 45.3 = 11.2+34.1.  Call your function on your variable that you already have in memory.  Print your cumulative waiting time list.\n",
    "\n",
    "-"
   ]
  },
  {
   "cell_type": "code",
   "execution_count": 9,
   "metadata": {},
   "outputs": [
    {
     "name": "stdout",
     "output_type": "stream",
     "text": [
      "[9.1, 26.299999999999997, 35.5, 47.3, 66.3, 73.2, 85.7, 107.80000000000001, 110.9, 124.4, 125.60000000000001, 159.5, 162.1, 178.2, 190.5, 196.7, 225.6, 230.7, 267.3, 280.0, 293.0, 300.1, 312.6, 312.90000000000003, 376.50000000000006, 419.6000000000001, 431.4000000000001, 443.6000000000001, 478.50000000000006, 480.1000000000001, 507.9000000000001, 509.1000000000001, 524.7, 548.2, 570.6, 577.1, 578.5, 602.6, 607.9, 607.9, 611.0, 620.8, 629.6999999999999, 630.4, 646.1, 655.4, 664.8, 672.5, 692.2, 718.7]\n"
     ]
    }
   ],
   "source": [
    "def CummuWaitingTime(waiting_time):\n",
    "    cummuwaittime = []\n",
    "    \n",
    "    for i in range(len(waiting_time)):\n",
    "        \n",
    "        if i == 0:\n",
    "            cummuwaittime.append(waiting_time[i])\n",
    "        else:\n",
    "            cummuwaittime.append(cummuwaittime[i-1] + waiting_time[i])\n",
    "    \n",
    "    return cummuwaittime;\n",
    "\n",
    "cummutimes = (CummuWaitingTime(bus_times))\n",
    "print(cummutimes)"
   ]
  },
  {
   "cell_type": "markdown",
   "metadata": {},
   "source": [
    "🎯 Using the list generated in 2(a), at what time does the 50th bus arrive? Print the time in the format `HH:MM AM/PM` where `HH` is the hour and `MM` is the minute.  \n",
    "\n",
    "###### On the printing of the times\n",
    "\n",
    "* Note that HH should be between 01 and 12.\n",
    "* You must print that leading 0 in the hour and minute, if it is less than 10.\n",
    "* Do *not* generate a new list of times; be sure to re-use the list of intervals you already generated in 2(a).\n",
    "* I strongly suggest you write a **function** to stringify the floating point number.  \n",
    "  * It eats the floating point number, interpreted as number of minutes past midnight.  \n",
    "  * It returns a string, composed of the hours, minutes, and morning/afternoon indicator.  \n",
    "  * To solve this problem, take a random number of minutes, and do the computation yourself, and write down the steps you take to do it.  That's what you should make the computer do!\n",
    "  * Test the function as you develop it, with some known inputs and the times they should map to; e.g., 125.0 is \"02:05 AM\", and so is 125+24*60."
   ]
  },
  {
   "cell_type": "code",
   "execution_count": 10,
   "metadata": {},
   "outputs": [
    {
     "name": "stdout",
     "output_type": "stream",
     "text": [
      "11:58 AM\n"
     ]
    }
   ],
   "source": [
    "def HourFormat(times, bus):\n",
    "    hours = []\n",
    "    minutes = []\n",
    "    ampm = []\n",
    "\n",
    "    for i in range(len(times)):\n",
    "        #print(times[i]//60)\n",
    "        if (times[i]//60) >= 12:\n",
    "            if int((times[i]//60)-12) == 0:\n",
    "                hours.append(int(12))\n",
    "            else:\n",
    "                hours.append(int((times[i]//60)-12))\n",
    "            ampm.append(\"PM\")\n",
    "        else:\n",
    "            if (int((times[i]//60))) == 0:\n",
    "                hours.append(int(12))\n",
    "            else:\n",
    "                hours.append(int((times[i]//60)))\n",
    "            ampm.append(\"AM\")\n",
    "        if (times[i]<60):\n",
    "            minutes.append(int((times[i])))\n",
    "        else:\n",
    "            minutes.append(int((times[i]%60)))\n",
    "    \n",
    "    print(\"{:02d}:{:02d} {}\".format(hours[bus-1], minutes[bus-1], ampm[bus-1]))\n",
    "        \n",
    "    \n",
    "    return;\n",
    "\n",
    "HourFormat(cummutimes, 50)\n"
   ]
  },
  {
   "cell_type": "markdown",
   "metadata": {},
   "source": [
    "---\n",
    "\n",
    "## Problem 3.  Chocolate and the Nobel\n",
    "\n",
    "This problem also uses generation of random numbers to simulate.  \n",
    "\n",
    "Researchers have observed a (presumably spurious) correlation between per capita chocolate consumption and the rate of Nobel prize laureates: see [Chocolate Consumption, Cognitive Function, and Nobel Laureates](http://www.nejm.org/doi/full/10.1056/NEJMon1211064).  In this problem, we will create some sample data to simulate this relationship.\n",
    "\n",
    "I have not told you what to name your functions, or even when to write them.  But know that the person who is authoring this assignment often writes one-line functions with descriptive names.  There's power in naming your actions, no matter how simple!!!\n",
    "### Problem 3(a).  A first pass at simulation\n",
    "\n",
    "\n",
    "\n",
    "🎯 Write Python code to produce a list of 50 ordered pairs $(c,n)$, where $c$ represents chocolate consumption in kg/year/person and $n$ represents the number of Nobel laureates per 10 million population, for some country.  The values for $c$ should be random numbers (not necessarily integers!) **uniformly distributed** between 0 and 15.  You may assume that $c$ and $n$ are related by\n",
    "\n",
    "$n = 0.4\\cdot c-0.8$.\n",
    "\n",
    "However, it is impossible for a nation to have a negative number of Nobel laureates, so if your predicted value of $n$ is less than 0 for a country, replace that value by 0.\n",
    "\n",
    "🎯 Print your list of ordered pairs; report your values of $c$ and $n$ to 2 decimal places."
   ]
  },
  {
   "cell_type": "code",
   "execution_count": 11,
   "metadata": {},
   "outputs": [
    {
     "name": "stdout",
     "output_type": "stream",
     "text": [
      "[('14.77', '5.11'), ('4.50', '1.00'), ('0.70', '0.00'), ('13.18', '4.47'), ('11.44', '3.78'), ('1.93', '0.00'), ('8.57', '2.63'), ('13.87', '4.75'), ('12.89', '4.36'), ('4.72', '1.09'), ('11.44', '3.78'), ('0.53', '0.00'), ('12.72', '4.29'), ('4.57', '1.03'), ('9.19', '2.87'), ('12.47', '4.19'), ('2.80', '0.32'), ('12.14', '4.06'), ('14.92', '5.17'), ('7.59', '2.24'), ('10.24', '3.30'), ('6.07', '1.63'), ('10.03', '3.21'), ('2.50', '0.20'), ('1.78', '0.00'), ('6.67', '1.87'), ('1.64', '0.00'), ('2.75', '0.30'), ('8.39', '2.56'), ('7.70', '2.28'), ('1.92', '0.00'), ('7.94', '2.38'), ('3.69', '0.68'), ('13.42', '4.57'), ('4.89', '1.16'), ('8.41', '2.56'), ('12.56', '4.22'), ('13.79', '4.72'), ('7.76', '2.31'), ('4.23', '0.89'), ('0.46', '0.00'), ('6.28', '1.71'), ('0.72', '0.00'), ('6.39', '1.76'), ('2.64', '0.26'), ('10.46', '3.38'), ('2.54', '0.21'), ('12.18', '4.07'), ('12.50', '4.20'), ('11.04', '3.62')]\n"
     ]
    }
   ],
   "source": [
    "import numpy as np\n",
    "\n",
    "def NumNobelUniformPrediction(samples, low, high):\n",
    "\n",
    "    choc = np.random.uniform(low, high, samples)\n",
    "    nobels = [(0.4*c)-0.8 for c in choc]\n",
    "    \n",
    "    for i in range(len(nobels)):\n",
    "        if nobels[i]<0:\n",
    "            nobels[i]=0\n",
    "            \n",
    "    choc = ['%.2f' % elem for elem in choc]\n",
    "    nobels = ['%.2f' % elem for elem in nobels]\n",
    "    prediction = list(zip(choc, nobels))\n",
    "\n",
    "    return prediction;\n",
    "\n",
    "pred = NumNobelUniformPrediction(50,0,15)\n",
    "print(pred)\n"
   ]
  },
  {
   "cell_type": "markdown",
   "metadata": {},
   "source": [
    "### Problem 3(b).  Error term.\n",
    "\n",
    "Our list of data from part (a) is not a good simulation of real-world data, because it is perfectly linear.  That is, even though the per capita chocolate variable is random, the number of Nobel laureates is 100% predicted from that value.  So, we'll randomly perturb the number of laureates for each country.  \n",
    "\n",
    "🎯 Using the 50 $c$ and $n$ values you generated in part (a), generate new $n_e$ values, using the following formula:\n",
    "\n",
    "$n_e = n + \\epsilon.$\n",
    "\n",
    "Here $\\epsilon$ should be a random variable with **normal distribution**, mean 0, and standard deviation 1.  Using the list of ordered pairs generated in 3(a), create a new list of 50 ordered pairs $(c,n_e)$.  Each $n$ should be perturbed by a distinct and randomly generated value -- do not use the same $\\epsilon$ for all $n$.\n",
    "\n",
    "Again, your simulated data should not predict negative numbers of Nobel laureates. Again, do *not* generate a new list of $(c,n)$ values; you must re-use the list of ordered pairs already generated in 3(a).  Data you create as the result of evaluating a cell is available for use in other cells.  Check it out -- try running the Python command `who` if you want to prove it to yourself (a good habit to be in!).\n",
    "\n",
    "🎯 Print your new list of ordered pairs."
   ]
  },
  {
   "cell_type": "code",
   "execution_count": 12,
   "metadata": {},
   "outputs": [
    {
     "name": "stdout",
     "output_type": "stream",
     "text": [
      "[('14.77', '5.10'), ('4.50', '2.40'), ('0.70', '0.00'), ('13.18', '3.33'), ('11.44', '4.59'), ('1.93', '1.82'), ('8.57', '1.11'), ('13.87', '4.45'), ('12.89', '4.43'), ('4.72', '3.13'), ('11.44', '3.00'), ('0.53', '0.00'), ('12.72', '4.52'), ('4.57', '3.06'), ('9.19', '1.44'), ('12.47', '4.25'), ('2.80', '0.00'), ('12.14', '4.33'), ('14.92', '4.95'), ('7.59', '2.14'), ('10.24', '3.74'), ('6.07', '1.99'), ('10.03', '3.70'), ('2.50', '0.30'), ('1.78', '0.69'), ('6.67', '0.84'), ('1.64', '0.55'), ('2.75', '0.68'), ('8.39', '4.20'), ('7.70', '1.91'), ('1.92', '0.27'), ('7.94', '1.48'), ('3.69', '1.43'), ('13.42', '6.05'), ('4.89', '1.16'), ('8.41', '1.67'), ('12.56', '3.38'), ('13.79', '4.56'), ('7.76', '1.07'), ('4.23', '0.00'), ('0.46', '0.13'), ('6.28', '0.00'), ('0.72', '0.00'), ('6.39', '1.79'), ('2.64', '0.54'), ('10.46', '4.38'), ('2.54', '1.00'), ('12.18', '3.51'), ('12.50', '3.12'), ('11.04', '3.38')]\n"
     ]
    }
   ],
   "source": [
    "import numpy as np\n",
    "\n",
    "def NumNobelRandomPrediction(oldprediction):\n",
    "    \n",
    "    epsilon = np.random.normal(0,1, len(oldprediction))\n",
    "    \n",
    "    newnobels = []\n",
    "    choc = []\n",
    "    for i in range(len(oldprediction)):\n",
    "        newnobels.append(epsilon[i]+float(oldprediction[i][1]))\n",
    "        choc.append(oldprediction[i][0])\n",
    "        if newnobels[i]<0:\n",
    "            newnobels[i]=0\n",
    "        \n",
    "    newnobels = ['%.2f' % elem for elem in newnobels]\n",
    "    randomprediction = list(zip(choc, newnobels))\n",
    "    \n",
    "    \n",
    "    return randomprediction;\n",
    "\n",
    "newpred = NumNobelRandomPrediction(pred)\n",
    "print(newpred)"
   ]
  },
  {
   "cell_type": "markdown",
   "metadata": {},
   "source": [
    "### Problem 3(c).  Winners and losers.\n",
    "\n",
    "🎯 Make a new list consisting of all of the ordered pairs $(c,n_e)$ from your list from part (b) such that $n_e > 0.4\\cdot c -0.8$ (the $n$ value increased upon perturbation). \n",
    "\n",
    "🎯 Print this new (shorter) list. \n",
    "Use Python to calculate how many items are in your list of winners.  Hint to help you know when you have the answer correct: since the perturbation has mean 0, we expect about half to have gone up..."
   ]
  },
  {
   "cell_type": "code",
   "execution_count": 13,
   "metadata": {},
   "outputs": [
    {
     "name": "stdout",
     "output_type": "stream",
     "text": [
      "[('4.50', '2.40'), ('0.70', '0.00'), ('11.44', '4.59'), ('1.93', '1.82'), ('12.89', '4.43'), ('4.72', '3.13'), ('0.53', '0.00'), ('12.72', '4.52'), ('4.57', '3.06'), ('12.47', '4.25'), ('12.14', '4.33'), ('10.24', '3.74'), ('6.07', '1.99'), ('10.03', '3.70'), ('2.50', '0.30'), ('1.78', '0.69'), ('1.64', '0.55'), ('2.75', '0.68'), ('8.39', '4.20'), ('1.92', '0.27'), ('3.69', '1.43'), ('13.42', '6.05'), ('4.89', '1.16'), ('0.46', '0.13'), ('0.72', '0.00'), ('6.39', '1.79'), ('2.64', '0.54'), ('10.46', '4.38'), ('2.54', '1.00')]\n",
      "29\n"
     ]
    }
   ],
   "source": [
    "def IncreaseUni2Rand(prediction):\n",
    "    \n",
    "    incnobels = []\n",
    "    choc = []\n",
    "    \n",
    "    for i in range(len(prediction)):\n",
    "        if float(prediction[i][1]) > ((0.4*float(prediction[i][0]))-0.8):\n",
    "            incnobels.append(prediction[i][1])\n",
    "            choc.append(prediction[i][0])\n",
    "    \n",
    "    winners = list(zip(choc,incnobels))\n",
    "    \n",
    "    return winners;\n",
    "\n",
    "test = IncreaseUni2Rand(newpred)\n",
    "print(test)\n",
    "\n",
    "count = 0\n",
    "for tuple in test:\n",
    "    count = count+1\n",
    "print(count)"
   ]
  },
  {
   "cell_type": "markdown",
   "metadata": {},
   "source": [
    "# Problem 3(d). Preparing data to transfer to R.\n",
    "\n",
    "🎯 For future use, split your list of ordered pairs from Problem 3(b) (not 3(c)!) into two lists.  \n",
    "\n",
    "1. The first list should contain the $c$ values, and \n",
    "2. the second list should contain the $n_e$ values.\n",
    "\n",
    "To actually transfer data to R, we would write it to a file, perhaps as a csv file.  We'll leave that for later."
   ]
  },
  {
   "cell_type": "code",
   "execution_count": 14,
   "metadata": {},
   "outputs": [
    {
     "name": "stdout",
     "output_type": "stream",
     "text": [
      "['14.77', '4.50', '0.70', '13.18', '11.44', '1.93', '8.57', '13.87', '12.89', '4.72', '11.44', '0.53', '12.72', '4.57', '9.19', '12.47', '2.80', '12.14', '14.92', '7.59', '10.24', '6.07', '10.03', '2.50', '1.78', '6.67', '1.64', '2.75', '8.39', '7.70', '1.92', '7.94', '3.69', '13.42', '4.89', '8.41', '12.56', '13.79', '7.76', '4.23', '0.46', '6.28', '0.72', '6.39', '2.64', '10.46', '2.54', '12.18', '12.50', '11.04']\n",
      "['5.10', '2.40', '0.00', '3.33', '4.59', '1.82', '1.11', '4.45', '4.43', '3.13', '3.00', '0.00', '4.52', '3.06', '1.44', '4.25', '0.00', '4.33', '4.95', '2.14', '3.74', '1.99', '3.70', '0.30', '0.69', '0.84', '0.55', '0.68', '4.20', '1.91', '0.27', '1.48', '1.43', '6.05', '1.16', '1.67', '3.38', '4.56', '1.07', '0.00', '0.13', '0.00', '0.00', '1.79', '0.54', '4.38', '1.00', '3.51', '3.12', '3.38']\n"
     ]
    }
   ],
   "source": [
    "choc, nobels = zip(*newpred)\n",
    "choc = list(choc)\n",
    "nobels = list(nobels)\n",
    "#print(type(choc))\n",
    "print(choc)\n",
    "print(nobels)"
   ]
  },
  {
   "cell_type": "code",
   "execution_count": null,
   "metadata": {},
   "outputs": [],
   "source": []
  }
 ],
 "metadata": {
  "celltoolbar": "Edit Metadata",
  "kernelspec": {
   "display_name": "Python 3",
   "language": "python",
   "name": "python3"
  },
  "language_info": {
   "codemirror_mode": {
    "name": "ipython",
    "version": 3
   },
   "file_extension": ".py",
   "mimetype": "text/x-python",
   "name": "python",
   "nbconvert_exporter": "python",
   "pygments_lexer": "ipython3",
   "version": "3.7.1"
  }
 },
 "nbformat": 4,
 "nbformat_minor": 1
}
